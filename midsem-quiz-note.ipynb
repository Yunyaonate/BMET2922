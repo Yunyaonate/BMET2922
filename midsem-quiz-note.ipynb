{
 "cells": [
  {
   "cell_type": "markdown",
   "id": "816e6bd4-be38-4325-8568-35f52de66476",
   "metadata": {},
   "source": [
    "# Mid-Sem Quiz Note\n"
   ]
  },
  {
   "cell_type": "markdown",
   "id": "f746c3d8-2846-4510-b2d2-7fd4924b7f3e",
   "metadata": {},
   "source": [
    "## Lab 1: Python Familiarisation\n",
    "\n",
    "### 4.3 Printing a box"
   ]
  },
  {
   "cell_type": "code",
   "execution_count": 4,
   "id": "66b209a6-56cc-49e3-96b7-e58408cfc5a6",
   "metadata": {},
   "outputs": [
    {
     "name": "stdout",
     "output_type": "stream",
     "text": [
      "+------+\n",
      "|      |\n",
      "|      |\n",
      "|      |\n",
      "+------+\n"
     ]
    }
   ],
   "source": [
    "string1 = \"+\" + \"-\"*6 + \"+\"\n",
    "string2 = \"|\" + \" \"*6 + \"|\"\n",
    "\n",
    "print(string1)\n",
    "print(string2)\n",
    "print(string2)\n",
    "print(string2)\n",
    "print(string1)"
   ]
  },
  {
   "cell_type": "markdown",
   "id": "3731e5b3-8383-4041-a396-6ca81499ce72",
   "metadata": {},
   "source": [
    "### 4.4 String Variables\n"
   ]
  },
  {
   "cell_type": "code",
   "execution_count": 5,
   "id": "d060dd71-2a28-48ed-a71a-50dce9db4ad5",
   "metadata": {},
   "outputs": [
    {
     "name": "stdout",
     "output_type": "stream",
     "text": [
      "Santa Claus\n"
     ]
    }
   ],
   "source": [
    "first_name = 'Santa'\n",
    "last_name = 'Claus'\n",
    "full_name = first_name + \" \" + last_name\n",
    "print(full_name)"
   ]
  },
  {
   "cell_type": "markdown",
   "id": "6defefbe-171b-449e-b0c4-829486456498",
   "metadata": {},
   "source": [
    "### 4.5 Numbers ans Variables\n",
    "Try the operators with numbers and strings"
   ]
  },
  {
   "cell_type": "code",
   "execution_count": 10,
   "id": "b0b8e068-de72-4809-b09f-17ddeafc7fdb",
   "metadata": {},
   "outputs": [
    {
     "name": "stdout",
     "output_type": "stream",
     "text": [
      "c =  10\n",
      "d =  -4\n",
      "e =  0.42857142857142855\n",
      "f =  3\n",
      "g =  21\n"
     ]
    },
    {
     "ename": "TypeError",
     "evalue": "unsupported operand type(s) for -: 'str' and 'str'",
     "output_type": "error",
     "traceback": [
      "\u001b[0;31m---------------------------------------------------------------------------\u001b[0m",
      "\u001b[0;31mTypeError\u001b[0m                                 Traceback (most recent call last)",
      "\u001b[0;32m<ipython-input-10-82ec058c462d>\u001b[0m in \u001b[0;36m<module>\u001b[0;34m\u001b[0m\n\u001b[1;32m     14\u001b[0m \u001b[0mstr1\u001b[0m \u001b[0;34m=\u001b[0m \u001b[0;34m\"string1\"\u001b[0m\u001b[0;34m\u001b[0m\u001b[0;34m\u001b[0m\u001b[0m\n\u001b[1;32m     15\u001b[0m \u001b[0mstr2\u001b[0m \u001b[0;34m=\u001b[0m \u001b[0;34m\"string2\"\u001b[0m\u001b[0;34m\u001b[0m\u001b[0;34m\u001b[0m\u001b[0m\n\u001b[0;32m---> 16\u001b[0;31m \u001b[0mstr1\u001b[0m\u001b[0;34m-\u001b[0m\u001b[0mstr2\u001b[0m\u001b[0;34m\u001b[0m\u001b[0;34m\u001b[0m\u001b[0m\n\u001b[0m",
      "\u001b[0;31mTypeError\u001b[0m: unsupported operand type(s) for -: 'str' and 'str'"
     ]
    }
   ],
   "source": [
    "a = 3\n",
    "b = 7\n",
    "c = a+b\n",
    "d = a-b\n",
    "e = a/b\n",
    "f = a%b\n",
    "g = a*b\n",
    "print(\"c = \", c)\n",
    "print(\"d = \", d)\n",
    "print(\"e = \", e)\n",
    "print(\"f = \", f)\n",
    "print(\"g = \", g)\n",
    "\n",
    "str1 = \"string1\"\n",
    "str2 = \"string2\"\n",
    "str1-str2"
   ]
  },
  {
   "cell_type": "markdown",
   "id": "0a33f520-f000-416b-a17d-0c20f01a2af5",
   "metadata": {},
   "source": [
    "### 4.6 Floats\n",
    "**Part 1:**\n"
   ]
  },
  {
   "cell_type": "code",
   "execution_count": 17,
   "id": "af6b36a0-71e9-4676-89e0-dfd7771ec3b9",
   "metadata": {},
   "outputs": [
    {
     "name": "stdout",
     "output_type": "stream",
     "text": [
      "b =  0.5\n",
      "c =  1\n",
      "d =  1.0\n"
     ]
    }
   ],
   "source": [
    "a: float = 0.1\n",
    "b: float = a*5\n",
    "print(\"b = \", b)\n",
    "\n",
    "c: int = 1\n",
    "print(\"c = \", c)\n",
    "\n",
    "d: float = 1.0\n",
    "print(\"d = \", d)\n"
   ]
  },
  {
   "cell_type": "markdown",
   "id": "75d42eff-a6e7-4f60-936c-3b5fc0ed55b6",
   "metadata": {},
   "source": [
    "**Q** do you see any difference in the output of c and di in the terminal? can you deduce what data types c and d are from the output of your program?\n",
    "\n",
    "- c is integer, d is float"
   ]
  },
  {
   "cell_type": "markdown",
   "id": "7db9bf17-14c1-4d9e-8451-5c2676631e07",
   "metadata": {},
   "source": [
    "\n",
    "\n",
    "**Part 2:**"
   ]
  },
  {
   "cell_type": "code",
   "execution_count": 18,
   "id": "9f8d9059-8a8c-420b-9930-bb1053cf68d9",
   "metadata": {},
   "outputs": [
    {
     "name": "stdout",
     "output_type": "stream",
     "text": [
      "0.30000000000000004\n",
      "False\n"
     ]
    }
   ],
   "source": [
    "a: float = 0.1\n",
    "b: float = 0.2\n",
    "c: float = a+b\n",
    "\n",
    "print(c)\n",
    "print(c == 0.3)"
   ]
  },
  {
   "cell_type": "markdown",
   "id": "40244933-87e4-4a44-83af-cb81a254903d",
   "metadata": {},
   "source": [
    "In computing, floating-point arithmetic (FP) is arithmetic using formulaic representation of real numbers as an approximation to support a trade-off between range and precision. For this reason, floating-point computation is often used in systems with very small and very large real numbers that require fast processing times. "
   ]
  },
  {
   "cell_type": "markdown",
   "id": "6fd15abc-8d2a-4484-90bd-7ed4bff22ea4",
   "metadata": {},
   "source": [
    "<br />\n",
    "\n",
    "## 4.7 Boolean variables and equality operator\n"
   ]
  },
  {
   "cell_type": "code",
   "execution_count": 20,
   "id": "da73141e-b260-44d1-aa89-7126eef88d8b",
   "metadata": {},
   "outputs": [
    {
     "name": "stdout",
     "output_type": "stream",
     "text": [
      "True\n",
      "False\n",
      "False\n"
     ]
    }
   ],
   "source": [
    "a: bool = True\n",
    "print(a)\n",
    "\n",
    "b: bool = False\n",
    "print(b)\n",
    "\n",
    "c: bool = (a == b)\n",
    "print(c)"
   ]
  },
  {
   "cell_type": "markdown",
   "id": "7f07dd44-2a9d-471f-a5b1-52a446397dab",
   "metadata": {},
   "source": [
    "<br />\n",
    "\n",
    "## 4.8 Roman numbers\n"
   ]
  },
  {
   "cell_type": "markdown",
   "id": "4dd5fc94-d7be-4ec7-a425-ab056f3beb82",
   "metadata": {},
   "source": [
    "**Part 2**"
   ]
  },
  {
   "cell_type": "code",
   "execution_count": 48,
   "id": "92419570-f9d8-48be-8f68-ebb77d7692eb",
   "metadata": {},
   "outputs": [
    {
     "name": "stdin",
     "output_type": "stream",
     "text": [
      "Enter an roman number between 1 and 10: x\n",
      "Enter an roman number between 1 and 10: v\n",
      "Enter an roman number between 1 and 10: ii\n"
     ]
    },
    {
     "name": "stdout",
     "output_type": "stream",
     "text": [
      "Sum of x, v and ii = 17\n",
      "Product of x, v and ii = 100\n"
     ]
    }
   ],
   "source": [
    "## write a program that converts roman number into number\n",
    "\n",
    "import sys \n",
    "\n",
    "def  romanToInt(roman):\n",
    "    if (roman == \"i\"):\n",
    "        return 1\n",
    "    elif (roman == \"ii\"):\n",
    "        return 2\n",
    "    elif (roman == \"iii\"):\n",
    "        return 3\n",
    "    elif (roman == \"iv\"):\n",
    "        return 4\n",
    "    elif (roman == \"v\"):\n",
    "        return 5\n",
    "    elif (roman == \"vi\"):\n",
    "        return 6\n",
    "    elif (roman == \"vii\"):\n",
    "        return 7\n",
    "    elif (roman == \"viii\"):\n",
    "        return 8\n",
    "    elif (roman == \"ix\"):\n",
    "        return 9\n",
    "    elif (roman == \"x\"):\n",
    "        return 10\n",
    "    else:\n",
    "        return roman\n",
    "        sys.exit(\"invalid input\")\n",
    "        \n",
    "        \n",
    "## use of input\n",
    "# roman = input(\"Enter an roman number between 1 and 10:\")\n",
    "\n",
    "\n",
    "x = input(\"Enter an roman number between 1 and 10:\")\n",
    "a = romanToInt(x)\n",
    "# print(\"Number \" + x + \" is \" + str(a) + \"\\n\")\n",
    "\n",
    "y = input(\"Enter an roman number between 1 and 10:\")\n",
    "b = romanToInt(y)\n",
    "# print(\"Number \" + y + \" is \" + str(a) + \"\\n\")\n",
    "\n",
    "z = input(\"Enter an roman number between 1 and 10:\")\n",
    "c = romanToInt(z)\n",
    "# print(\"Number \" + z + \" is \" + str(a) + \"\\n\")\n",
    "\n",
    "result1 = a + b + c\n",
    "print(\"Sum of \" + x + \", \" + y + \" and \"+ z + \" = \"  + str(result1))\n",
    "\n",
    "result2 = a*b*c\n",
    "print(\"Product of \" + x + \", \" + y + \" and \"+ z + \" = \"  + str(result2))\n",
    "   \n",
    "# print(result)"
   ]
  },
  {
   "cell_type": "code",
   "execution_count": null,
   "id": "0a88c723-d19c-405e-9fbd-ef0f34fc3b72",
   "metadata": {},
   "outputs": [],
   "source": []
  }
 ],
 "metadata": {
  "kernelspec": {
   "display_name": "Python 3",
   "language": "python",
   "name": "python3"
  },
  "language_info": {
   "codemirror_mode": {
    "name": "ipython",
    "version": 3
   },
   "file_extension": ".py",
   "mimetype": "text/x-python",
   "name": "python",
   "nbconvert_exporter": "python",
   "pygments_lexer": "ipython3",
   "version": "3.8.8"
  }
 },
 "nbformat": 4,
 "nbformat_minor": 5
}
