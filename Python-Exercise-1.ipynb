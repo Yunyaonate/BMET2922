{
 "cells": [
  {
   "cell_type": "markdown",
   "id": "f6c004c0-049c-468a-ae4d-c7783d44bf77",
   "metadata": {},
   "source": [
    "# Python Exercise 1\n",
    "## Introduction - lecture 1 and 2\n",
    "\n",
    "- variables\n",
    "- if statement\n",
    "- while statement\n",
    "- for statement\n",
    "\n",
    "\n"
   ]
  },
  {
   "cell_type": "markdown",
   "id": "af67dfb5-d46c-4f70-9617-03422d1676a0",
   "metadata": {},
   "source": [
    "### Problem ii) if statement, odd or even\n"
   ]
  },
  {
   "cell_type": "code",
   "execution_count": 12,
   "id": "c5d3cb07-4161-4c33-b9cd-717b0067bdf2",
   "metadata": {},
   "outputs": [
    {
     "name": "stdin",
     "output_type": "stream",
     "text": [
      "Enter an integer:  0\n"
     ]
    },
    {
     "name": "stdout",
     "output_type": "stream",
     "text": [
      "0 is even\n"
     ]
    }
   ],
   "source": [
    "# import sys\n",
    "\n",
    "num = input(\"Enter an integer: \")\n",
    "num = int(num)\n",
    "\n",
    "\n",
    "if (num%2 == 0):\n",
    "    print(str(num) + \" is even\")\n",
    "else:\n",
    "    print(str(num) + \" is odd\")"
   ]
  },
  {
   "cell_type": "markdown",
   "id": "d82b5e91-4ebc-4edc-a320-9d8f7b8ff5f3",
   "metadata": {},
   "source": [
    "### Problem iv) while loop\n"
   ]
  },
  {
   "cell_type": "code",
   "execution_count": 25,
   "id": "f9e90c5c-8010-48a8-9162-51f88d6e21e2",
   "metadata": {},
   "outputs": [
    {
     "name": "stdin",
     "output_type": "stream",
     "text": [
      "Enter an integer:  1\n"
     ]
    },
    {
     "name": "stdout",
     "output_type": "stream",
     "text": [
      "Mean is 1.0\n"
     ]
    },
    {
     "name": "stdin",
     "output_type": "stream",
     "text": [
      "Enter an integer:  2\n"
     ]
    },
    {
     "name": "stdout",
     "output_type": "stream",
     "text": [
      "Mean is 1.5\n"
     ]
    },
    {
     "name": "stdin",
     "output_type": "stream",
     "text": [
      "Enter an integer:  3\n"
     ]
    },
    {
     "name": "stdout",
     "output_type": "stream",
     "text": [
      "Mean is 2.0\n"
     ]
    },
    {
     "name": "stdin",
     "output_type": "stream",
     "text": [
      "Enter an integer:  4\n"
     ]
    },
    {
     "name": "stdout",
     "output_type": "stream",
     "text": [
      "Mean is 2.5\n"
     ]
    },
    {
     "name": "stdin",
     "output_type": "stream",
     "text": [
      "Enter an integer:  5\n"
     ]
    },
    {
     "name": "stdout",
     "output_type": "stream",
     "text": [
      "Mean is 3.0\n"
     ]
    },
    {
     "name": "stdin",
     "output_type": "stream",
     "text": [
      "Enter an integer:  6\n"
     ]
    },
    {
     "name": "stdout",
     "output_type": "stream",
     "text": [
      "Mean is 3.5\n"
     ]
    },
    {
     "name": "stdin",
     "output_type": "stream",
     "text": [
      "Enter an integer:  7\n"
     ]
    },
    {
     "name": "stdout",
     "output_type": "stream",
     "text": [
      "Mean is 4.0\n"
     ]
    },
    {
     "name": "stdin",
     "output_type": "stream",
     "text": [
      "Enter an integer:  8\n"
     ]
    },
    {
     "name": "stdout",
     "output_type": "stream",
     "text": [
      "Mean is 4.5\n"
     ]
    },
    {
     "name": "stdin",
     "output_type": "stream",
     "text": [
      "Enter an integer:  9\n"
     ]
    },
    {
     "name": "stdout",
     "output_type": "stream",
     "text": [
      "Mean is 5.0\n"
     ]
    },
    {
     "name": "stdin",
     "output_type": "stream",
     "text": [
      "Enter an integer:  10\n"
     ]
    },
    {
     "name": "stdout",
     "output_type": "stream",
     "text": [
      "Mean is 5.5\n"
     ]
    }
   ],
   "source": [
    "# Importing the statistics module\n",
    "\n",
    "\n",
    "i = 0\n",
    "mean = 0\n",
    "while (i < 10):\n",
    "    numString = input(\"Enter an integer: \")\n",
    "    nums = int(numString)\n",
    "    mean = (mean * i + nums)/(i+1)\n",
    "    print(\"Mean is \" + str(mean))\n",
    "    i += 1\n",
    "    "
   ]
  },
  {
   "cell_type": "markdown",
   "id": "b365bcd1-af9d-4d56-8ff5-ef5d2ea4167e",
   "metadata": {},
   "source": [
    "### Problem v): for loop; binary"
   ]
  },
  {
   "cell_type": "code",
   "execution_count": 32,
   "id": "3438a12a-ebd1-4f64-97d2-88714167aae3",
   "metadata": {},
   "outputs": [
    {
     "name": "stdout",
     "output_type": "stream",
     "text": [
      "0 1 0b0\n",
      "1 2 0b1\n",
      "2 4 0b10\n",
      "3 8 0b11\n",
      "4 16 0b100\n",
      "5 32 0b101\n",
      "6 64 0b110\n",
      "7 128 0b111\n",
      "8 256 0b1000\n",
      "9 512 0b1001\n",
      "10 1024 0b1010\n",
      "11 2048 0b1011\n",
      "12 4096 0b1100\n",
      "13 8192 0b1101\n",
      "14 16384 0b1110\n",
      "15 32768 0b1111\n"
     ]
    }
   ],
   "source": [
    "for i in range(16):\n",
    "    a = 2**i\n",
    "    b = bin(i)\n",
    "    print(i,a,b)\n",
    "    "
   ]
  },
  {
   "cell_type": "markdown",
   "id": "0d7c4270-c43c-4f63-b1f5-7c0e0b7a9259",
   "metadata": {},
   "source": [
    "---\n",
    "# Python Exercise 2\n",
    "## Introduction\n",
    " - if statement\n",
    " - while loop or for loop\n",
    " - functions\n",
    " - formatted printing\n",
    " - sys.argv\n",
    " - lists including len(), append(), sorted() and slicing\n",
    " \n",
    " for example, a list can be reversed with teh slicing syntax"
   ]
  },
  {
   "cell_type": "code",
   "execution_count": 40,
   "id": "e1ca42a7-a3cc-4129-8806-153e5bec2307",
   "metadata": {},
   "outputs": [],
   "source": [
    "letters = ['a','b','c']\n",
    "letters = letters[::-1]  # [start : end: step] if start and end are omitted they take maximal values"
   ]
  },
  {
   "cell_type": "code",
   "execution_count": 41,
   "id": "12e12adf-42e8-401b-a3dd-75c46f14b545",
   "metadata": {},
   "outputs": [],
   "source": [
    "# import sys\n",
    "\n",
    "# if len(sys.argv) < 3:    \n",
    "#     print(\"syntax: diamond <width> <num>\")\n",
    "\n",
    "# else:    \n",
    "#     width = int(sys.argv[1])    \n",
    "#     num = int(sys.argv[2])    \n",
    "#     data = []    \n",
    "    \n",
    "#     for x in range(int(width/2+1)):       \n",
    "#         data.append(2*x)        \n",
    "#         print(\"y={:03d}, width={:5.2f}\".format(x, data[-1]))    \n",
    "        \n",
    "#     data = data + data[-2::-1]    \n",
    "    \n",
    "#     for row in range(num):        \n",
    "    \n",
    "#         for x in data:            \n",
    "#             x1 = width - x            \n",
    "#             s = \" \"*x1 + \"*\"            \n",
    "\n",
    "#             if x == 1:                \n",
    "#                 s = s + \"*\"            \n",
    "            \n",
    "#             if x > 1:                \n",
    "#                 s = s + \" \"*((2*x) - 1) + \"*\"            \n",
    "            \n",
    "#             s2 = s      \n",
    "                \n",
    "#             for n in range(num-1):                \n",
    "#                 s2 = s2 +\" \"*x1+s       \n",
    "                \n",
    "#         print(s2)\n",
    "    \n",
    "#     #    print(s)"
   ]
  },
  {
   "cell_type": "markdown",
   "id": "62cfcdec-3af8-4751-9a59-f121b7eb2876",
   "metadata": {},
   "source": [
    "## Diamonds - part A \n",
    "\n",
    "y: 0 : 1 : 10 , width: 0 : 2 : 20"
   ]
  },
  {
   "cell_type": "code",
   "execution_count": 112,
   "id": "48401366-2391-47ff-bd4a-4c43905cebd5",
   "metadata": {},
   "outputs": [
    {
     "name": "stdout",
     "output_type": "stream",
     "text": [
      "                       *                                         *                  \n",
      "                     *   *                                     *   *                \n",
      "                   *       *                                 *       *              \n",
      "                 *           *                             *           *            \n",
      "               *               *                         *               *          \n",
      "             *                   *                     *                   *        \n",
      "           *                       *                 *                       *      \n",
      "         *                           *             *                           *    \n",
      "       *                               *         *                               *  \n",
      "     *                                   *     *                                   *\n",
      "       *                               *         *                               *  \n",
      "         *                           *             *                           *    \n",
      "           *                       *                 *                       *      \n",
      "             *                   *                     *                   *        \n",
      "               *               *                         *               *          \n",
      "                 *           *                             *           *            \n",
      "                   *       *                                 *       *              \n",
      "                     *   *                                     *   *                \n",
      "                       *                                         *                  \n"
     ]
    }
   ],
   "source": [
    "height = 10\n",
    "width = 20\n",
    "midpoint = round(width/2 + 1)\n",
    "\n",
    "\n",
    "\n",
    "# print(x1)\n",
    "\n",
    "for y in range(height):\n",
    "    x1 = midpoint - y \n",
    "    x2 = midpoint + y\n",
    "#     print(x1,x2)\n",
    "    \n",
    "    for i in range(2):\n",
    "        for col in range(width+1):\n",
    "            if col == x1 or col == x2:\n",
    "                str = str + \" *\"\n",
    "            elif col < width+1:\n",
    "                str = str + \"  \"\n",
    "\n",
    "    print(str)\n",
    "    str = \"\"\n",
    "    \n",
    "    \n",
    "for y in range(1,height):\n",
    "    x1 = midpoint - (height-y-1) \n",
    "    x2 = midpoint + (height-y-1)\n",
    "#     print(x1,x2)\n",
    "    \n",
    "    for i in range(2):\n",
    "        for col in range(width+1):\n",
    "            if col == x1 or col == x2:\n",
    "                str = str + \" *\"\n",
    "            elif col < width+1:\n",
    "                str = str + \"  \"\n",
    "\n",
    "    print(str)\n",
    "    str = \"\"\n",
    "    \n",
    "\n",
    "# height = 10\n",
    "# width = 20\n",
    "\n",
    "# midpoint = round(width/2 + 1)\n",
    "# print(midpoint)\n",
    "\n",
    "# str[midpoint-1] = \"*\"\n",
    "\n",
    "# print(str)\n",
    "\n",
    "# for y in range(1,10):\n",
    "#     str1 = str\n",
    "#     str1[width/2 - y*dw] = \"*\"\n",
    "#     print(str1)\n",
    "    "
   ]
  },
  {
   "cell_type": "code",
   "execution_count": null,
   "id": "2b374700-af4a-4185-8ee2-4af2549b299f",
   "metadata": {},
   "outputs": [],
   "source": []
  },
  {
   "cell_type": "code",
   "execution_count": null,
   "id": "30641286-bd87-4a19-921e-18308cc560cf",
   "metadata": {},
   "outputs": [],
   "source": []
  }
 ],
 "metadata": {
  "kernelspec": {
   "display_name": "Python 3",
   "language": "python",
   "name": "python3"
  },
  "language_info": {
   "codemirror_mode": {
    "name": "ipython",
    "version": 3
   },
   "file_extension": ".py",
   "mimetype": "text/x-python",
   "name": "python",
   "nbconvert_exporter": "python",
   "pygments_lexer": "ipython3",
   "version": "3.8.8"
  }
 },
 "nbformat": 4,
 "nbformat_minor": 5
}
