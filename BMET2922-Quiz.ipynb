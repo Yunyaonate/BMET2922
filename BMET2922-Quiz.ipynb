{
 "cells": [
  {
   "cell_type": "markdown",
   "id": "f103096f-b35b-4e78-81dc-b896d0c2a1e7",
   "metadata": {},
   "source": [
    "# quiz"
   ]
  },
  {
   "cell_type": "code",
   "execution_count": 2,
   "id": "ea0acf2c-d94d-4d86-a6e8-603153d698e3",
   "metadata": {},
   "outputs": [
    {
     "ename": "KeyError",
     "evalue": "2",
     "output_type": "error",
     "traceback": [
      "\u001b[0;31m---------------------------------------------------------------------------\u001b[0m",
      "\u001b[0;31mKeyError\u001b[0m                                  Traceback (most recent call last)",
      "\u001b[0;32m<ipython-input-2-826f8316c162>\u001b[0m in \u001b[0;36m<module>\u001b[0;34m\u001b[0m\n\u001b[1;32m      2\u001b[0m \u001b[0;34m\u001b[0m\u001b[0m\n\u001b[1;32m      3\u001b[0m \u001b[0mxxx\u001b[0m \u001b[0;34m=\u001b[0m \u001b[0;34m{\u001b[0m\u001b[0;34m\"A\"\u001b[0m\u001b[0;34m:\u001b[0m\u001b[0;36m99\u001b[0m\u001b[0;34m,\u001b[0m\u001b[0;34m\"G\"\u001b[0m\u001b[0;34m:\u001b[0m\u001b[0;36m13\u001b[0m\u001b[0;34m,\u001b[0m\u001b[0;34m\"H\"\u001b[0m\u001b[0;34m:\u001b[0m\u001b[0;36m53\u001b[0m\u001b[0;34m}\u001b[0m\u001b[0;34m\u001b[0m\u001b[0;34m\u001b[0m\u001b[0m\n\u001b[0;32m----> 4\u001b[0;31m \u001b[0mxxx\u001b[0m\u001b[0;34m[\u001b[0m\u001b[0;36m2\u001b[0m\u001b[0;34m]\u001b[0m\u001b[0;34m\u001b[0m\u001b[0;34m\u001b[0m\u001b[0m\n\u001b[0m",
      "\u001b[0;31mKeyError\u001b[0m: 2"
     ]
    }
   ],
   "source": [
    "#Q2 \n",
    "\n",
    "xxx = {\"A\":99,\"G\":13,\"H\":53}\n",
    "xxx[2]"
   ]
  },
  {
   "cell_type": "code",
   "execution_count": 3,
   "id": "370d8f47-6eee-4c47-bc6e-af536b6a9542",
   "metadata": {},
   "outputs": [
    {
     "name": "stdout",
     "output_type": "stream",
     "text": [
      "0\n",
      "1\n",
      "3\n",
      "6\n",
      "10\n",
      "15\n",
      "21\n",
      "28\n",
      "36\n",
      "45\n"
     ]
    }
   ],
   "source": [
    "#q3\n",
    "\n",
    "value: int = 0\n",
    "\n",
    "for i in range(10):\n",
    "    value = value + i\n",
    "    print(value)"
   ]
  },
  {
   "cell_type": "code",
   "execution_count": 6,
   "id": "3a5f2f5b-746d-49a6-921b-6915672f55ca",
   "metadata": {},
   "outputs": [
    {
     "name": "stdin",
     "output_type": "stream",
     "text": [
      "Enter num: 3\n",
      "Enter maxNum  8\n"
     ]
    },
    {
     "name": "stdout",
     "output_type": "stream",
     "text": [
      "0\n",
      "3\n",
      "6\n"
     ]
    }
   ],
   "source": [
    "# q5\n",
    "\n",
    "num  = int(input(\"Enter num:\"))\n",
    "maxNum = int(input(\"Enter maxNum \"))\n",
    "\n",
    "for i in range(maxNum+1):\n",
    "    if (i%num == 0):\n",
    "        print(i)"
   ]
  },
  {
   "cell_type": "code",
   "execution_count": 7,
   "id": "257c7ad7-468b-45ee-b0a4-ca849f77ba41",
   "metadata": {},
   "outputs": [
    {
     "name": "stdout",
     "output_type": "stream",
     "text": [
      "1.37\n"
     ]
    }
   ],
   "source": [
    "#q6\n",
    "num = 99\n",
    "def printNum(num=0):\n",
    "    print(num)\n",
    "    \n",
    "printNum(1.37)"
   ]
  },
  {
   "cell_type": "code",
   "execution_count": 9,
   "id": "e37b1ea8-dd18-4118-a67b-606221d74675",
   "metadata": {},
   "outputs": [
    {
     "ename": "IndexError",
     "evalue": "list index out of range",
     "output_type": "error",
     "traceback": [
      "\u001b[0;31m---------------------------------------------------------------------------\u001b[0m",
      "\u001b[0;31mIndexError\u001b[0m                                Traceback (most recent call last)",
      "\u001b[0;32m<ipython-input-9-9ccef9c72fd6>\u001b[0m in \u001b[0;36m<module>\u001b[0;34m\u001b[0m\n\u001b[1;32m      2\u001b[0m \u001b[0;34m\u001b[0m\u001b[0m\n\u001b[1;32m      3\u001b[0m \u001b[0mnums\u001b[0m \u001b[0;34m=\u001b[0m \u001b[0mlist\u001b[0m\u001b[0;34m(\u001b[0m\u001b[0mrange\u001b[0m\u001b[0;34m(\u001b[0m\u001b[0;36m17\u001b[0m\u001b[0;34m)\u001b[0m\u001b[0;34m)\u001b[0m\u001b[0;34m\u001b[0m\u001b[0;34m\u001b[0m\u001b[0m\n\u001b[0;32m----> 4\u001b[0;31m \u001b[0mprint\u001b[0m\u001b[0;34m(\u001b[0m\u001b[0;34m\"the answer is {}\"\u001b[0m\u001b[0;34m.\u001b[0m\u001b[0mformat\u001b[0m\u001b[0;34m(\u001b[0m\u001b[0mnums\u001b[0m\u001b[0;34m[\u001b[0m\u001b[0;36m17\u001b[0m\u001b[0;34m]\u001b[0m\u001b[0;34m)\u001b[0m\u001b[0;34m)\u001b[0m\u001b[0;34m\u001b[0m\u001b[0;34m\u001b[0m\u001b[0m\n\u001b[0m",
      "\u001b[0;31mIndexError\u001b[0m: list index out of range"
     ]
    }
   ],
   "source": [
    "#q7\n",
    "\n",
    "nums = list(range(17))\n",
    "print(\"the answer is {}\".format(nums[17]))"
   ]
  },
  {
   "cell_type": "code",
   "execution_count": 10,
   "id": "6add684a-fbb3-4050-9cef-28379dd6ac46",
   "metadata": {},
   "outputs": [
    {
     "name": "stdout",
     "output_type": "stream",
     "text": [
      "0\n",
      "1\n",
      "6\n",
      "18\n",
      "40\n",
      "75\n",
      "126\n",
      "196\n"
     ]
    }
   ],
   "source": [
    "#10\n",
    "value = 0;\n",
    "for i in range(8):\n",
    "    value += i\n",
    "    print(value*i)"
   ]
  },
  {
   "cell_type": "code",
   "execution_count": null,
   "id": "f84b2c9a-5bed-4145-8978-e781f5e12446",
   "metadata": {},
   "outputs": [
    {
     "name": "stdout",
     "output_type": "stream",
     "text": [
      "Window name\n",
      "* Error performing wm_overrideredirect while hiding the hidden master root* expected boolean value but got \"\"\n"
     ]
    }
   ],
   "source": [
    "import PySimpleGUI as sg\n",
    "\n",
    "WIN_WIDTH = 300\n",
    "WIN_HEIGHT = 200\n",
    "\n",
    "## ***** Windwo 0 ****\n",
    "\n",
    "print(\"Window name\")\n",
    "sg.theme(\"BrownBlue\")\n",
    "\n",
    "# define a layout. A list of list. One list per row\n",
    "layout = [sg.Text(\"Neatly aligned!\"),\n",
    "          \n",
    "          sg.VerticalSeparator(),\n",
    "          \n",
    "          sg.Column([\n",
    "                [sg.Button(\"Button 1\", key = \"__CHECK1__\")],\n",
    "                [sg.Button(\"Button 2\", key = \"__CHECK2__\")]\n",
    "            ]),\n",
    "         ]\n",
    "\n",
    "# create a window and specify the name, the layout, and the size\n",
    "window = sg.Window(\"Window name\", layout, size = (WIN_WIDTH,WIN_HEIGHT))\n",
    "\n",
    "# The event loop\n",
    "while True:\n",
    "    # returns an event and a list of values\n",
    "    event, values = window.read()\n",
    "    \n",
    "    if event == None:\n",
    "        break\n",
    "\n",
    "window.close()"
   ]
  },
  {
   "cell_type": "code",
   "execution_count": null,
   "id": "3ef414b9-58c9-4d53-9e8f-75dba9b3f35e",
   "metadata": {},
   "outputs": [],
   "source": []
  },
  {
   "cell_type": "code",
   "execution_count": null,
   "id": "fccf16c2-960a-4da7-b6a3-480784424fdb",
   "metadata": {},
   "outputs": [],
   "source": []
  }
 ],
 "metadata": {
  "kernelspec": {
   "display_name": "Python 3",
   "language": "python",
   "name": "python3"
  },
  "language_info": {
   "codemirror_mode": {
    "name": "ipython",
    "version": 3
   },
   "file_extension": ".py",
   "mimetype": "text/x-python",
   "name": "python",
   "nbconvert_exporter": "python",
   "pygments_lexer": "ipython3",
   "version": "3.8.8"
  }
 },
 "nbformat": 4,
 "nbformat_minor": 5
}
