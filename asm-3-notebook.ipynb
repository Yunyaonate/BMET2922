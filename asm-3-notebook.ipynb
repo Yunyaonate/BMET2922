{
 "cells": [
  {
   "cell_type": "markdown",
   "metadata": {},
   "source": [
    "## Logbook 23 Oct:\n",
    "- Wrote message at Arduino side and sent to the host, at the host side, the input message looks good, and saved as int list\n",
    "- Found few problem:\n",
    "    * sequence number should be binary\n",
    "    * received checksum and calculated checksum do not match\n",
    "\n",
    "- Saved the sample pulse message into csv and wrote data processing functions for it (data stored as string, thus add int() to match the functions)"
   ]
  },
  {
   "cell_type": "code",
   "execution_count": 2,
   "metadata": {},
   "outputs": [
    {
     "name": "stdout",
     "output_type": "stream",
     "text": [
      "0b10000110\n"
     ]
    }
   ],
   "source": [
    "## Remember to use binary for sequence number\n",
    "print(bin(134|128))"
   ]
  },
  {
   "cell_type": "markdown",
   "metadata": {},
   "source": [
    "## Code so far\n",
    "\n",
    "### Read data from a csv file"
   ]
  },
  {
   "cell_type": "code",
   "execution_count": 5,
   "metadata": {},
   "outputs": [],
   "source": [
    "import csv\n",
    "\n",
    "class data:\n",
    "    pass\n",
    "\n",
    "# Read sample message from the data:\n",
    "filename = '/Users/yunyao/Desktop/BMET2922/messageExample.csv'\n",
    "file        = open(filename)\n",
    "csvreader   = csv.reader(file)\n",
    "\n",
    "#--------------------Save all the example data into a class--------------\n",
    "data.raw = []\n",
    "\n",
    "for row in csvreader:\n",
    "    data.raw.append(row)\n",
    "file.close()\n",
    "\n"
   ]
  },
  {
   "cell_type": "markdown",
   "metadata": {},
   "source": [
    "### For one of these message:"
   ]
  },
  {
   "cell_type": "code",
   "execution_count": 7,
   "metadata": {},
   "outputs": [
    {
     "name": "stdout",
     "output_type": "stream",
     "text": [
      "Print the input message in Char: \n",
      "ÿ 134 W 2817 2652 1924 1695 2471 2153 2625 2978 3616 3142 3597 3088 2732 3917 2404 3743 1395 1749 2407 3936 1302 3767 1045 1563 2340 3398 3896 1051 1807 2767 1997 1978 2650 3809 1330 2360 3716 2161 2293 3209 3753 3098 2130 3634 3543 3889 2088 3031 2692 1401 239 ÿ\n",
      "\n",
      "\n",
      "Print the input message in decimal bytes: \n",
      "255 134 87 50 56 49 55 50 54 53 50 49 57 50 52 49 54 57 53 50 52 55 49 50 49 53 51 50 54 50 53 50 57 55 56 51 54 49 54 51 49 52 50 51 53 57 55 51 48 56 56 50 55 51 50 51 57 49 55 50 52 48 52 51 55 52 51 49 51 57 53 49 55 52 57 50 52 48 55 51 57 51 54 49 51 48 50 51 55 54 55 49 48 52 53 49 53 54 51 50 51 52 48 51 51 57 56 51 56 57 54 49 48 53 49 49 56 48 55 50 55 54 55 49 57 57 55 49 57 55 56 50 54 53 48 51 56 48 57 49 51 51 48 50 51 54 48 51 55 49 54 50 49 54 49 50 50 57 51 51 50 48 57 51 55 53 51 51 48 57 56 50 49 51 48 51 54 51 52 51 53 52 51 51 56 56 57 50 48 56 56 51 48 51 49 50 54 57 50 49 52 48 49 239 255 10 \n",
      "\n"
     ]
    }
   ],
   "source": [
    "this_message    = []\n",
    "lineCnt         = 0\n",
    "for row in data.raw:\n",
    "\n",
    "    this_message = row\n",
    "    lineCnt += 1\n",
    "    \n",
    "### This part is supposed to be in the loop, we put it outside to just check for the last message\n",
    "# Print out this data:\n",
    "print(\"Print the input message in Char: \")\n",
    "for i in range(len(this_message)):\n",
    "    if i == 1 or i == len(this_message)-3:\n",
    "        print(this_message[i],end=\" \")   \n",
    "    elif i == 0 or i%4 == 2:\n",
    "        print(chr(int(this_message[i])),end=\" \")\n",
    "    else: \n",
    "        print(chr(int(this_message[i])),end=\"\")\n",
    "print(\"\\n\")\n",
    "\n",
    "# Print the input message in decimal bytes:\n",
    "print(\"Print the input message in decimal bytes: \")\n",
    "for i in range(len(this_message)):\n",
    "    print((int(this_message[i])),end=\" \")\n",
    "print(\"\\n\")"
   ]
  },
  {
   "cell_type": "markdown",
   "metadata": {},
   "source": [
    "### Checksum"
   ]
  },
  {
   "cell_type": "code",
   "execution_count": 8,
   "metadata": {},
   "outputs": [
    {
     "name": "stdout",
     "output_type": "stream",
     "text": [
      "Add the decimal bytes before checksum:  10884\n",
      "Compare the received checksum and calculated check sum: 239 10884\n",
      "Checksume validation:  False\n"
     ]
    }
   ],
   "source": [
    "## checksum function: return true if the received checksum and calculated checksum matched\n",
    "def checksum(this_message):\n",
    "    # get the checksum of the message\n",
    "    checksumPo  = len(this_message) - 3\n",
    "    checksum1 = int(this_message[checksumPo])\n",
    "\n",
    "    # calculate the checksum\n",
    "    sum = 0\n",
    "    for i in range(checksumPo):\n",
    "        # the int(chr(int(message))) is the corresponding char in decimal bytes \n",
    "        # e.g 65 (for 'A'), 49 (for '1)\n",
    "\n",
    "        sum += int(this_message[i])          \n",
    "\n",
    "    checksum2 = sum | 128\n",
    "\n",
    "    print(\"Add the decimal bytes before checksum: \",sum)\n",
    "    print(\"Compare the received checksum and calculated check sum:\",checksum1,checksum2)\n",
    "\n",
    "    if checksum1 == checksum2:\n",
    "        return True\n",
    "    else: return False\n",
    "\n",
    "#-------------- Checksum ------------------------------------\n",
    "print(\"Checksume validation: \",checksum(this_message))"
   ]
  },
  {
   "cell_type": "markdown",
   "metadata": {},
   "source": [
    "### Strach data"
   ]
  },
  {
   "cell_type": "code",
   "execution_count": 9,
   "metadata": {},
   "outputs": [
    {
     "name": "stdout",
     "output_type": "stream",
     "text": [
      "Print the pulse data stored into class: [2817, 2652, 1924, 1695, 2471, 2153, 2625, 2978, 3616, 3142, 3597, 3088, 2732, 3917, 2404, 3743, 1395, 1749, 2407, 3936, 1302, 3767, 1045, 1563, 2340, 3398, 3896, 1051, 1807, 2767, 1997, 1978, 2650, 3809, 1330, 2360, 3716, 2161, 2293, 3209, 3753, 3098, 2130, 3634, 3543, 3889, 2088, 3031, 2692, 1401]\n"
     ]
    }
   ],
   "source": [
    "## This function transfer the 4-digital-chars into numbers, and store the numbers as int/float list into the class\n",
    "def fourBytesToNum(dataType,this_message):\n",
    "    dataStartPo = 3\n",
    "\n",
    "    if dataType == 66:\n",
    "        i = dataStartPo\n",
    "        data.thisBPM = int(chr(int(this_message[i]))) * 1000 + int(chr(int(this_message[i+1]))) * 100 + int(chr(int(this_message[i+2])))*10 + int(chr(int(this_message[i+3])))\n",
    "        # print(\"This is a BPM message: \")\n",
    "    \n",
    "    if dataType == 87:\n",
    "        # print(\"This is a Pulse Waveform message:\")\n",
    "        dataSize = 50\n",
    "        pulse = [0] * dataSize\n",
    "        for j in range(dataSize):         # position in the pulse array\n",
    "            i = dataStartPo + j*4             # position in the raw message\n",
    "            pulse[j] = int(chr(int(this_message[i]))) * 1000 + int(chr(int(this_message[i+1]))) * 100 + int(chr(int(this_message[i+2])))*10 + int(chr(int(this_message[i+3])))\n",
    "        #     print(pulse[j],end=\" \")\n",
    "        # print(\" \")\n",
    "        data.thispulse = pulse\n",
    "\n",
    "\n",
    "#------------ Store the pulse data (transfer the \"4-digit-char\" into a single number)--------------\n",
    "dataType = int(this_message[2])\n",
    "fourBytesToNum(dataType,this_message)\n",
    "print(\"Print the pulse data stored into class:\",data.thispulse)\n",
    "\n"
   ]
  }
 ],
 "metadata": {
  "kernelspec": {
   "display_name": "Python 3.9.7 64-bit",
   "metadata": {
    "interpreter": {
     "hash": "aee8b7b246df8f9039afb4144a1f6fd8d2ca17a180786b69acc140d282b71a49"
    }
   },
   "name": "python3"
  },
  "language_info": {
   "codemirror_mode": {
    "name": "ipython",
    "version": 3
   },
   "file_extension": ".py",
   "mimetype": "text/x-python",
   "name": "python",
   "nbconvert_exporter": "python",
   "pygments_lexer": "ipython3",
   "version": "3.9.7"
  },
  "orig_nbformat": 2
 },
 "nbformat": 4,
 "nbformat_minor": 2
}