{
 "cells": [
  {
   "cell_type": "markdown",
   "id": "34906374-9973-423d-a124-beb33b46579a",
   "metadata": {},
   "source": [
    "# Lecture 6: \n",
    "## Dictionary\n",
    "- List and tuple are collections of python objects indexed by ordered **sequence of integers** starting from zero\n",
    "- dictionary is also a collection of Python objects but indexed by **strings or numbers or tuples**\n",
    "- we can **not** have two items with the same key\n",
    "- dictionary keys are **not ordered**"
   ]
  },
  {
   "cell_type": "code",
   "execution_count": 2,
   "id": "0aa80f52-b58d-4a6d-b40c-714de44ffbed",
   "metadata": {},
   "outputs": [
    {
     "name": "stdout",
     "output_type": "stream",
     "text": [
      "271\n",
      "dict_keys(['John', 'Sue', 'Polash'])\n",
      "dict_values([271, 226, 221])\n"
     ]
    }
   ],
   "source": [
    "room = {'John':271, 'Sue' :226, \"Polash\" :221} # john, sue, polash are the keys, we cannot name the same keys more than once\n",
    "\n",
    "# find room number for John\n",
    "print(room['John'])\n",
    "\n",
    "# print out all keys and value\n",
    "print(room.keys())\n",
    "print(room.values())"
   ]
  },
  {
   "cell_type": "markdown",
   "id": "40a590ab-8bf1-417e-9c50-783f334b6e9e",
   "metadata": {},
   "source": [
    "- values can be added/ changed using assignment operator or update()\n"
   ]
  },
  {
   "cell_type": "code",
   "execution_count": 3,
   "id": "f687e275-3c5e-4061-b513-5a3efb51a727",
   "metadata": {},
   "outputs": [
    {
     "name": "stdout",
     "output_type": "stream",
     "text": [
      "dict_keys(['John', 'Sue', 'Polash', 'Katie'])\n",
      "dict_values([271, 200, 108, 250])\n"
     ]
    }
   ],
   "source": [
    "room = {'John':271, 'Sue' :226, \"Polash\" :221} \n",
    "\n",
    "room['Polash'] = 108\n",
    "\n",
    "room.update({'Sue':200})\n",
    "\n",
    "room['Katie'] = 250\n",
    "\n",
    "# print out all keys and value\n",
    "print(room.keys())\n",
    "print(room.values())"
   ]
  },
  {
   "cell_type": "markdown",
   "id": "1cfcd17c-2b85-438e-8538-fd139ef09d2f",
   "metadata": {},
   "source": [
    "---\n",
    "## GUI"
   ]
  },
  {
   "cell_type": "markdown",
   "id": "e91850ec-8a5c-4d72-bf03-2621d8400205",
   "metadata": {},
   "source": [
    "### GUI timeline\n",
    "\n",
    "- 1945: Vannevar Bush “wholly new forms of encyclopedias..”\"graphical displays\"\n",
    "- 1968: Douglas Egnlbart :  “Mother of all demos”\n",
    "- 1970s: Palo Alto Research Centre (PARC)\n",
    "- 1984: Macintosh\n",
    "- 1985: windows 1.0\n",
    "\n",
    "\n"
   ]
  },
  {
   "cell_type": "markdown",
   "id": "005d34f0-6727-40b3-92d6-77ccd9b78676",
   "metadata": {},
   "source": [
    "### A First GUI"
   ]
  },
  {
   "cell_type": "code",
   "execution_count": 10,
   "id": "34effeb0-ba40-45ca-b9fb-06987457de6f",
   "metadata": {},
   "outputs": [
    {
     "name": "stdout",
     "output_type": "stream",
     "text": [
      "Window name\n"
     ]
    }
   ],
   "source": [
    "import PySimpleGUI as sg\n",
    "\n",
    "WIN_WIDTH = 640\n",
    "WIN_HEIGHT = 480\n",
    "\n",
    "## ***** Windwo 0 ****\n",
    "\n",
    "print(\"Window name\")\n",
    "sg.theme(\"LightGreen1\")\n",
    "\n",
    "# define a layout. A list of list. One list per row\n",
    "layout = [[sg.Text(\"A signle text element. Theme = {}\".format(sg.theme()))],]\n",
    "\n",
    "# create a window and specify the name, the layout, and the size\n",
    "window = sg.Window(\"Window name\", layout, size = (WIN_WIDTH,WIN_HEIGHT))\n",
    "\n",
    "# The event loop\n",
    "while True:\n",
    "    # returns an event and a list of values\n",
    "    event, values = window.read()\n",
    "    \n",
    "    if event == None:\n",
    "        break\n",
    "\n",
    "window.close()"
   ]
  },
  {
   "cell_type": "markdown",
   "id": "ffc2fc2d-ebf1-44c3-845a-216df22b28e9",
   "metadata": {},
   "source": [
    "### A Complex GUI"
   ]
  },
  {
   "cell_type": "code",
   "execution_count": 44,
   "id": "ddd6c4d5-9606-4c25-ab99-3aaa9bc2c787",
   "metadata": {},
   "outputs": [],
   "source": [
    "import PySimpleGUI as sg\n",
    "\n",
    "WIN_WIDTH = 640\n",
    "WIN_HEIGHT = 480\n",
    "\n",
    "## ***** Windwo 0 ****\n",
    "\n",
    "print(\"Window name\")\n",
    "sg.theme(\"BrownBlue\")\n",
    "\n",
    "# define a layout. A list of list. One list per row\n",
    "layout = [\n",
    "    [sg.Text(\"Complex Window\", size = (45,1), justification = 'c', font = ('Any 20 bold'))],        # ROW 1 TEXT\n",
    "    \n",
    "    \n",
    "    [\n",
    "        sg.Column([[sg.Text(\"Input text\", font = \"All 10 italic\")],\n",
    "                  [sg.Input(key = \"__INPUT__\",size = (40,1))]]),\n",
    "        \n",
    "        sg.VerticalSeparator(),\n",
    "        \n",
    "        sg.Column([[sg.Text(\"Output Text\",font = \"All 10 underline\")],\n",
    "                  [sg.Text(size = (40,1), background_color = \"LightGrey\",\n",
    "                          text_color = \"Black\", key = \"__OUTPUT__\")]])\n",
    "    ],                                                                                               # ROW 2: INPUT AND OUTPUT\n",
    "    \n",
    "    \n",
    "    [sg.Output(size = (83,5), key = \"__STDOUT__\")],                 # ROW 3: output\n",
    "    \n",
    "                                                                    # ROW 4: SLIDE BAR | CHECK BOX | COLUMN | LISTBOX | SPIN\n",
    "    [\n",
    "        sg.Text(\"Slider 1\"),\n",
    "        sg.Slider(range=(0,10), key = \"__SLIDER1__\"),\n",
    "        \n",
    "        sg.VerticalSeparator(),\n",
    "        \n",
    "        sg.Column([\n",
    "                [sg.Checkbox(\"Checkbox 1\", key = \"__CHECK1__\")],\n",
    "                [sg.Checkbox(\"Checkbox 2\", key = \"__CHECK2__\")]\n",
    "            ]),\n",
    "        \n",
    "        sg.VerticalSeparator(),\n",
    "        \n",
    "        sg.Text(\"combo\"),\n",
    "        sg.Combo(['Red','Green','Blue'], default_value = 'Red', key = \"__COMBO__\"),\n",
    "        \n",
    "        sg.VerticalSeparator(),\n",
    "        \n",
    "        sg.Text(\"List\"),\n",
    "        sg.Listbox(['List 1','List 2','List 3','List 4'],default_values = 'List 3', key = \"__LIST__\"),\n",
    "        \n",
    "        sg.VerticalSeparator(),\n",
    "        \n",
    "        sg.Text(\"Spin\"),\n",
    "        sg.Spin([x for x in range(10)], 0, key = '__SPIN__', size = (3,1))\n",
    "        \n",
    "    ],\n",
    "    \n",
    "    [sg.Radio(\"Radio 1\", \"Radio\", key = \"__RAD1__\", default = True),\n",
    "     sg.Radio(\"Radio 2\", \"Radio\", key = \"__RAD2__\"),\n",
    "     sg.Radio(\"Radio 3\", \"Radio\", key = \"__RAD3__\")],\n",
    "    \n",
    "    \n",
    "    [sg.Button(\"Go\", tooltip = \"Copy Input text to Output text\"), sg.Button(\"Exit\")],\n",
    "    \n",
    "    [sg.HorizontalSeparator(),],\n",
    "    \n",
    "    [sg.Text(\"Progress\", size = (70,1), justification = 'c', font = \"Any 10 bold\", key = \"__PROGTEXT__\")],\n",
    "    [sg.ProgressBar(100, size = (450,20), bar_color = (\"red\",\"green\"),border_width = 1, key = \"__PROGR__\")]\n",
    "                                                            \n",
    "]\n",
    "\n",
    "\n",
    "\n",
    "# create a window and specify the name, the layout, and the size\n",
    "window = sg.Window(\"Window name\", layout, size = (WIN_WIDTH,WIN_HEIGHT))\n",
    "\n",
    "# set the current values of all control elements\n",
    "current = {}\n",
    "event, values = window.read(timeout = 0.1)\n",
    "\n",
    "for k in values.keys():\n",
    "    current[k] = values[k]\n",
    "    \n",
    "window[\"__INPUT__\"].update(\"An input field\")\n",
    "\n",
    "\n",
    "# The event loop\n",
    "while True:\n",
    "    # returns an event and a list of values\n",
    "    event, values = window.read(timeout = 0.1)\n",
    "    \n",
    "    if event in (None,\"Exit\"):\n",
    "        break\n",
    "        \n",
    "    if event == \"Go\":\n",
    "        window[\"__OUTPUT__\"].update(values[\"__INPUT__\"])\n",
    "        window[\"__INPUT__\"].update(\"\")\n",
    "        \n",
    "    window[\"__PROGR__\"].update(values[\"__SLIDER1__\"] * 10)\n",
    "    window[\"__PROGTEXT__\"].update(\"progress ({:3.0f}%)\".format(values[\"__SLIDER1__\"] * 10))\n",
    "    \n",
    "    for k in values.keys():\n",
    "        if current[k] != values[k]:\n",
    "            current[k] = values[k]\n",
    "            print(\"{} --> {}\".format(k,values[k]))\n",
    "    \n",
    "\n",
    "window.close()"
   ]
  },
  {
   "cell_type": "code",
   "execution_count": null,
   "id": "5aaa16f0-1321-4d33-bef2-2cdee0bc03ff",
   "metadata": {},
   "outputs": [],
   "source": []
  },
  {
   "cell_type": "code",
   "execution_count": null,
   "id": "eb428674-b1e8-40d6-a0f8-a7ffaa37a9d9",
   "metadata": {},
   "outputs": [],
   "source": []
  },
  {
   "cell_type": "code",
   "execution_count": null,
   "id": "86dc9d14-625a-4dbe-8778-94a4495d29ef",
   "metadata": {},
   "outputs": [],
   "source": []
  },
  {
   "cell_type": "code",
   "execution_count": null,
   "id": "26c09b18-b8fe-4802-b60b-7835b352758b",
   "metadata": {},
   "outputs": [],
   "source": []
  }
 ],
 "metadata": {
  "kernelspec": {
   "display_name": "Python 3",
   "language": "python",
   "name": "python3"
  },
  "language_info": {
   "codemirror_mode": {
    "name": "ipython",
    "version": 3
   },
   "file_extension": ".py",
   "mimetype": "text/x-python",
   "name": "python",
   "nbconvert_exporter": "python",
   "pygments_lexer": "ipython3",
   "version": "3.8.8"
  }
 },
 "nbformat": 4,
 "nbformat_minor": 5
}
